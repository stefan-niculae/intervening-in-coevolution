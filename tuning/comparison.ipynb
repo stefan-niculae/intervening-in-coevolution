{
 "cells": [
  {
   "cell_type": "code",
   "execution_count": 1,
   "metadata": {},
   "outputs": [],
   "source": [
    "import sys\n",
    "sys.path.append('..')"
   ]
  },
  {
   "cell_type": "code",
   "execution_count": 2,
   "metadata": {},
   "outputs": [],
   "source": [
    "from IPython.display import display\n",
    "%config InlineBackend.figure_format='retina'"
   ]
  },
  {
   "cell_type": "code",
   "execution_count": 3,
   "metadata": {},
   "outputs": [],
   "source": [
    "from configs.structure import Config\n",
    "from environment.thieves_guardians_env import TGEnv\n",
    "from tuning.comparison import read_models, play_all_pairs, compute_team_results, plot_team_aggregates, plot_boxplot"
   ]
  },
  {
   "cell_type": "markdown",
   "metadata": {},
   "source": [
    "## Get results"
   ]
  },
  {
   "cell_type": "code",
   "execution_count": 4,
   "metadata": {},
   "outputs": [],
   "source": [
    "# Read models from disk\n",
    "all_policies, model_names = read_models()"
   ]
  },
  {
   "cell_type": "markdown",
   "metadata": {},
   "source": [
    "❗ Make sure all models in `models_dir` were trained on the same environment that is instantiated below:"
   ]
  },
  {
   "cell_type": "code",
   "execution_count": 5,
   "metadata": {},
   "outputs": [],
   "source": [
    "# Re-instantiate the environment\n",
    "config = Config()\n",
    "config.scenario = '6x6,2v2'\n",
    "config.state_representation = 'coordinates'\n",
    "\n",
    "env = TGEnv(config)"
   ]
  },
  {
   "cell_type": "code",
   "execution_count": null,
   "metadata": {},
   "outputs": [],
   "source": [
    "%%time\n",
    "# Have all thieves play against all guardians\n",
    "all_results = play_all_pairs(env, all_policies, model_names, num_episodes=100)"
   ]
  },
  {
   "cell_type": "markdown",
   "metadata": {},
   "source": [
    "## Plot results"
   ]
  },
  {
   "cell_type": "code",
   "execution_count": null,
   "metadata": {},
   "outputs": [],
   "source": [
    "for team in ['thieves', 'guardians']:\n",
    "    aggregates_df, team_rewards, models_order = plot_team_aggregates(all_results, team)\n",
    "    display(aggregates_df)\n",
    "    plot_boxplot(team_rewards, models_order, team)"
   ]
  }
 ],
 "metadata": {
  "kernelspec": {
   "display_name": "dl-3.7",
   "language": "python",
   "name": "dl-3.7"
  },
  "language_info": {
   "codemirror_mode": {
    "name": "ipython",
    "version": 3
   },
   "file_extension": ".py",
   "mimetype": "text/x-python",
   "name": "python",
   "nbconvert_exporter": "python",
   "pygments_lexer": "ipython3",
   "version": "3.7.0"
  }
 },
 "nbformat": 4,
 "nbformat_minor": 2
}
