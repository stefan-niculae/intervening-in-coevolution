{
 "cells": [
  {
   "cell_type": "code",
   "execution_count": 1,
   "metadata": {},
   "outputs": [],
   "source": [
    "from sklearn.model_selection import ParameterGrid"
   ]
  },
  {
   "cell_type": "code",
   "execution_count": 2,
   "metadata": {},
   "outputs": [
    {
     "ename": "NameError",
     "evalue": "name 'List' is not defined",
     "output_type": "error",
     "traceback": [
      "\u001b[1;31m---------------------------------------------------------------------------\u001b[0m",
      "\u001b[1;31mNameError\u001b[0m                                 Traceback (most recent call last)",
      "\u001b[1;32m<ipython-input-2-43c077d5de1d>\u001b[0m in \u001b[0;36m<module>\u001b[1;34m\u001b[0m\n\u001b[0;32m     16\u001b[0m \u001b[1;33m\u001b[0m\u001b[0m\n\u001b[0;32m     17\u001b[0m \u001b[1;34m\"\"\" Exploration \"\"\"\u001b[0m\u001b[1;33m\u001b[0m\u001b[1;33m\u001b[0m\u001b[0m\n\u001b[1;32m---> 18\u001b[1;33m \u001b[0mentropy_coef_milestones\u001b[0m\u001b[1;33m:\u001b[0m   \u001b[0mList\u001b[0m\u001b[1;33m[\u001b[0m\u001b[0mint\u001b[0m\u001b[1;33m]\u001b[0m   \u001b[1;33m=\u001b[0m \u001b[1;33m(\u001b[0m  \u001b[1;36m0\u001b[0m\u001b[1;33m,\u001b[0m\u001b[1;33m)\u001b[0m\u001b[1;33m\u001b[0m\u001b[1;33m\u001b[0m\u001b[0m\n\u001b[0m\u001b[0;32m     19\u001b[0m \u001b[0mentropy_coef_values\u001b[0m\u001b[1;33m:\u001b[0m       \u001b[0mList\u001b[0m\u001b[1;33m[\u001b[0m\u001b[0mfloat\u001b[0m\u001b[1;33m]\u001b[0m \u001b[1;33m=\u001b[0m \u001b[1;33m(\u001b[0m\u001b[1;36m.01\u001b[0m\u001b[1;33m,\u001b[0m\u001b[1;33m)\u001b[0m\u001b[1;33m\u001b[0m\u001b[1;33m\u001b[0m\u001b[0m\n\u001b[0;32m     20\u001b[0m \u001b[0muniform_proba_milestones\u001b[0m\u001b[1;33m:\u001b[0m  \u001b[0mList\u001b[0m\u001b[1;33m[\u001b[0m\u001b[0mint\u001b[0m\u001b[1;33m]\u001b[0m   \u001b[1;33m=\u001b[0m \u001b[1;33m(\u001b[0m \u001b[1;36m0\u001b[0m\u001b[1;33m,\u001b[0m\u001b[1;33m)\u001b[0m\u001b[1;33m\u001b[0m\u001b[1;33m\u001b[0m\u001b[0m\n",
      "\u001b[1;31mNameError\u001b[0m: name 'List' is not defined"
     ]
    }
   ],
   "source": [
    "    seed: int = 0\n",
    "\n",
    "    \"\"\" RL algorithm \"\"\"\n",
    "    algorithm = {'pg', 'ppo'}\n",
    "    ppo_clip: float = .2\n",
    "    discount: float = .99\n",
    "\n",
    "    \"\"\" Model architecture \"\"\"\n",
    "    state_representation: str = 'coordinates'  # grid | coordinates\n",
    "    encoder: str = 'fc'  # fc | conv\n",
    "    activation_function: str = 'relu'  # lrelu | relu | tanh\n",
    "    num_encoder_layers: int = 2\n",
    "    encoder_layer_size: int = 32\n",
    "    num_decoder_layers: int = 1\n",
    "    decoder_layer_size: int = 32\n",
    "\n",
    "    \"\"\" Exploration \"\"\"\n",
    "    entropy_coef_milestones:   List[int]   = (  0,)\n",
    "    entropy_coef_values:       List[float] = (.01,)\n",
    "    uniform_proba_milestones:  List[int]   = ( 0,)\n",
    "    uniform_proba_values:      List[float] = ( 0,)\n",
    "\n",
    "    \"\"\" Getting and learning from samples \"\"\"\n",
    "    num_iterations: int = 60\n",
    "    num_transitions: int = 2000\n",
    "    batch_size: int = 256\n",
    "    num_epochs: int = 5\n",
    "    max_grad_norm: float = 5\n",
    "    lr_milestones:             List[int]   = (   0,)\n",
    "    lr_values:                 List[float] = (.001,)\n"
   ]
  },
  {
   "cell_type": "code",
   "execution_count": null,
   "metadata": {},
   "outputs": [],
   "source": [
    "param_grid = [\n",
    "    {'algorithm': ['pg']},\n",
    "    {'algorithm': ['ppo'],\n",
    "     'ppo_clip': [.2, .5]}\n",
    "]"
   ]
  },
  {
   "cell_type": "code",
   "execution_count": 100,
   "metadata": {},
   "outputs": [],
   "source": [
    "my_dict = {\n",
    "    'algorithm': ['pg', 'ppo'],\n",
    "    'state_representation': ['grid', 'coordinates'],\n",
    "    'encoder': ['fc', 'conv'],\n",
    "    'activation_function': ['relu', 'tanh'],\n",
    "    'encoder_size': ['enc_small', 'enc_medium', 'enc_big'],\n",
    "    'decoder_size': ['dec_small', 'dec_big'],\n",
    "    'entropy_coef_values': [(0.001,), (0.01,)],\n",
    "    'lr_values': [(0.001,), (0.01,)]\n",
    "}\n",
    "translator = {\n",
    "    'enc_small': \"\\\"num_encoder_layers\\\":2,\\n\" + \"\\\"encoder_layer_size\\\":32,\\n\",\n",
    "    'enc_medium': \"\\\"num_encoder_layers\\\":,\\n3\" + \"\\\"encoder_layer_size\\\":64,\\n\",\n",
    "    'enc_big': \"\\\"num_encoder_layers\\\":4,\\n\" + \"\\\"encoder_layer_size\\\":64,\\n\",\n",
    "    'dec_small': \"\\\"num_decoder_layers\\\":2,\\n\" + \"\\\"encoder_decoder_size\\\":16,\\n\",\n",
    "    'dec_big': \"\\\"num_decoder_layers\\\":3,\\n\" + \"\\\"encoder_decoder_size\\\":32,\\n\",\n",
    "}"
   ]
  },
  {
   "cell_type": "code",
   "execution_count": 101,
   "metadata": {},
   "outputs": [],
   "source": [
    "import itertools as it\n",
    "combinations = it.product(*(my_dict[key] for key in my_dict))\n",
    "combinations = list(combinations)"
   ]
  },
  {
   "cell_type": "code",
   "execution_count": 102,
   "metadata": {},
   "outputs": [],
   "source": [
    "incompatible = [('conv', 'coordinates'), ('fc', 'grid')]\n",
    "def is_compatible(_list, incompatibilities):\n",
    "    for incompatibility in incompatibilities:\n",
    "        if incompatibility[0] in _list and incompatibility[1] in _list:\n",
    "            return False\n",
    "    return True"
   ]
  },
  {
   "cell_type": "code",
   "execution_count": 103,
   "metadata": {},
   "outputs": [
    {
     "name": "stdout",
     "output_type": "stream",
     "text": [
      "[('pg', 'grid', 'conv', 'relu', 'enc_small', 'dec_small', (0.001,), (0.001,)), ('pg', 'grid', 'conv', 'relu', 'enc_small', 'dec_small', (0.001,), (0.01,)), ('pg', 'grid', 'conv', 'relu', 'enc_small', 'dec_small', (0.01,), (0.001,)), ('pg', 'grid', 'conv', 'relu', 'enc_small', 'dec_small', (0.01,), (0.01,)), ('pg', 'grid', 'conv', 'relu', 'enc_small', 'dec_big', (0.001,), (0.001,)), ('pg', 'grid', 'conv', 'relu', 'enc_small', 'dec_big', (0.001,), (0.01,)), ('pg', 'grid', 'conv', 'relu', 'enc_small', 'dec_big', (0.01,), (0.001,)), ('pg', 'grid', 'conv', 'relu', 'enc_small', 'dec_big', (0.01,), (0.01,)), ('pg', 'grid', 'conv', 'relu', 'enc_medium', 'dec_small', (0.001,), (0.001,)), ('pg', 'grid', 'conv', 'relu', 'enc_medium', 'dec_small', (0.001,), (0.01,)), ('pg', 'grid', 'conv', 'relu', 'enc_medium', 'dec_small', (0.01,), (0.001,)), ('pg', 'grid', 'conv', 'relu', 'enc_medium', 'dec_small', (0.01,), (0.01,)), ('pg', 'grid', 'conv', 'relu', 'enc_medium', 'dec_big', (0.001,), (0.001,)), ('pg', 'grid', 'conv', 'relu', 'enc_medium', 'dec_big', (0.001,), (0.01,)), ('pg', 'grid', 'conv', 'relu', 'enc_medium', 'dec_big', (0.01,), (0.001,)), ('pg', 'grid', 'conv', 'relu', 'enc_medium', 'dec_big', (0.01,), (0.01,)), ('pg', 'grid', 'conv', 'relu', 'enc_big', 'dec_small', (0.001,), (0.001,)), ('pg', 'grid', 'conv', 'relu', 'enc_big', 'dec_small', (0.001,), (0.01,)), ('pg', 'grid', 'conv', 'relu', 'enc_big', 'dec_small', (0.01,), (0.001,)), ('pg', 'grid', 'conv', 'relu', 'enc_big', 'dec_small', (0.01,), (0.01,)), ('pg', 'grid', 'conv', 'relu', 'enc_big', 'dec_big', (0.001,), (0.001,)), ('pg', 'grid', 'conv', 'relu', 'enc_big', 'dec_big', (0.001,), (0.01,)), ('pg', 'grid', 'conv', 'relu', 'enc_big', 'dec_big', (0.01,), (0.001,)), ('pg', 'grid', 'conv', 'relu', 'enc_big', 'dec_big', (0.01,), (0.01,)), ('pg', 'grid', 'conv', 'tanh', 'enc_small', 'dec_small', (0.001,), (0.001,)), ('pg', 'grid', 'conv', 'tanh', 'enc_small', 'dec_small', (0.001,), (0.01,)), ('pg', 'grid', 'conv', 'tanh', 'enc_small', 'dec_small', (0.01,), (0.001,)), ('pg', 'grid', 'conv', 'tanh', 'enc_small', 'dec_small', (0.01,), (0.01,)), ('pg', 'grid', 'conv', 'tanh', 'enc_small', 'dec_big', (0.001,), (0.001,)), ('pg', 'grid', 'conv', 'tanh', 'enc_small', 'dec_big', (0.001,), (0.01,)), ('pg', 'grid', 'conv', 'tanh', 'enc_small', 'dec_big', (0.01,), (0.001,)), ('pg', 'grid', 'conv', 'tanh', 'enc_small', 'dec_big', (0.01,), (0.01,)), ('pg', 'grid', 'conv', 'tanh', 'enc_medium', 'dec_small', (0.001,), (0.001,)), ('pg', 'grid', 'conv', 'tanh', 'enc_medium', 'dec_small', (0.001,), (0.01,)), ('pg', 'grid', 'conv', 'tanh', 'enc_medium', 'dec_small', (0.01,), (0.001,)), ('pg', 'grid', 'conv', 'tanh', 'enc_medium', 'dec_small', (0.01,), (0.01,)), ('pg', 'grid', 'conv', 'tanh', 'enc_medium', 'dec_big', (0.001,), (0.001,)), ('pg', 'grid', 'conv', 'tanh', 'enc_medium', 'dec_big', (0.001,), (0.01,)), ('pg', 'grid', 'conv', 'tanh', 'enc_medium', 'dec_big', (0.01,), (0.001,)), ('pg', 'grid', 'conv', 'tanh', 'enc_medium', 'dec_big', (0.01,), (0.01,)), ('pg', 'grid', 'conv', 'tanh', 'enc_big', 'dec_small', (0.001,), (0.001,)), ('pg', 'grid', 'conv', 'tanh', 'enc_big', 'dec_small', (0.001,), (0.01,)), ('pg', 'grid', 'conv', 'tanh', 'enc_big', 'dec_small', (0.01,), (0.001,)), ('pg', 'grid', 'conv', 'tanh', 'enc_big', 'dec_small', (0.01,), (0.01,)), ('pg', 'grid', 'conv', 'tanh', 'enc_big', 'dec_big', (0.001,), (0.001,)), ('pg', 'grid', 'conv', 'tanh', 'enc_big', 'dec_big', (0.001,), (0.01,)), ('pg', 'grid', 'conv', 'tanh', 'enc_big', 'dec_big', (0.01,), (0.001,)), ('pg', 'grid', 'conv', 'tanh', 'enc_big', 'dec_big', (0.01,), (0.01,)), ('pg', 'coordinates', 'fc', 'relu', 'enc_small', 'dec_small', (0.001,), (0.001,)), ('pg', 'coordinates', 'fc', 'relu', 'enc_small', 'dec_small', (0.001,), (0.01,)), ('pg', 'coordinates', 'fc', 'relu', 'enc_small', 'dec_small', (0.01,), (0.001,)), ('pg', 'coordinates', 'fc', 'relu', 'enc_small', 'dec_small', (0.01,), (0.01,)), ('pg', 'coordinates', 'fc', 'relu', 'enc_small', 'dec_big', (0.001,), (0.001,)), ('pg', 'coordinates', 'fc', 'relu', 'enc_small', 'dec_big', (0.001,), (0.01,)), ('pg', 'coordinates', 'fc', 'relu', 'enc_small', 'dec_big', (0.01,), (0.001,)), ('pg', 'coordinates', 'fc', 'relu', 'enc_small', 'dec_big', (0.01,), (0.01,)), ('pg', 'coordinates', 'fc', 'relu', 'enc_medium', 'dec_small', (0.001,), (0.001,)), ('pg', 'coordinates', 'fc', 'relu', 'enc_medium', 'dec_small', (0.001,), (0.01,)), ('pg', 'coordinates', 'fc', 'relu', 'enc_medium', 'dec_small', (0.01,), (0.001,)), ('pg', 'coordinates', 'fc', 'relu', 'enc_medium', 'dec_small', (0.01,), (0.01,)), ('pg', 'coordinates', 'fc', 'relu', 'enc_medium', 'dec_big', (0.001,), (0.001,)), ('pg', 'coordinates', 'fc', 'relu', 'enc_medium', 'dec_big', (0.001,), (0.01,)), ('pg', 'coordinates', 'fc', 'relu', 'enc_medium', 'dec_big', (0.01,), (0.001,)), ('pg', 'coordinates', 'fc', 'relu', 'enc_medium', 'dec_big', (0.01,), (0.01,)), ('pg', 'coordinates', 'fc', 'relu', 'enc_big', 'dec_small', (0.001,), (0.001,)), ('pg', 'coordinates', 'fc', 'relu', 'enc_big', 'dec_small', (0.001,), (0.01,)), ('pg', 'coordinates', 'fc', 'relu', 'enc_big', 'dec_small', (0.01,), (0.001,)), ('pg', 'coordinates', 'fc', 'relu', 'enc_big', 'dec_small', (0.01,), (0.01,)), ('pg', 'coordinates', 'fc', 'relu', 'enc_big', 'dec_big', (0.001,), (0.001,)), ('pg', 'coordinates', 'fc', 'relu', 'enc_big', 'dec_big', (0.001,), (0.01,)), ('pg', 'coordinates', 'fc', 'relu', 'enc_big', 'dec_big', (0.01,), (0.001,)), ('pg', 'coordinates', 'fc', 'relu', 'enc_big', 'dec_big', (0.01,), (0.01,)), ('pg', 'coordinates', 'fc', 'tanh', 'enc_small', 'dec_small', (0.001,), (0.001,)), ('pg', 'coordinates', 'fc', 'tanh', 'enc_small', 'dec_small', (0.001,), (0.01,)), ('pg', 'coordinates', 'fc', 'tanh', 'enc_small', 'dec_small', (0.01,), (0.001,)), ('pg', 'coordinates', 'fc', 'tanh', 'enc_small', 'dec_small', (0.01,), (0.01,)), ('pg', 'coordinates', 'fc', 'tanh', 'enc_small', 'dec_big', (0.001,), (0.001,)), ('pg', 'coordinates', 'fc', 'tanh', 'enc_small', 'dec_big', (0.001,), (0.01,)), ('pg', 'coordinates', 'fc', 'tanh', 'enc_small', 'dec_big', (0.01,), (0.001,)), ('pg', 'coordinates', 'fc', 'tanh', 'enc_small', 'dec_big', (0.01,), (0.01,)), ('pg', 'coordinates', 'fc', 'tanh', 'enc_medium', 'dec_small', (0.001,), (0.001,)), ('pg', 'coordinates', 'fc', 'tanh', 'enc_medium', 'dec_small', (0.001,), (0.01,)), ('pg', 'coordinates', 'fc', 'tanh', 'enc_medium', 'dec_small', (0.01,), (0.001,)), ('pg', 'coordinates', 'fc', 'tanh', 'enc_medium', 'dec_small', (0.01,), (0.01,)), ('pg', 'coordinates', 'fc', 'tanh', 'enc_medium', 'dec_big', (0.001,), (0.001,)), ('pg', 'coordinates', 'fc', 'tanh', 'enc_medium', 'dec_big', (0.001,), (0.01,)), ('pg', 'coordinates', 'fc', 'tanh', 'enc_medium', 'dec_big', (0.01,), (0.001,)), ('pg', 'coordinates', 'fc', 'tanh', 'enc_medium', 'dec_big', (0.01,), (0.01,)), ('pg', 'coordinates', 'fc', 'tanh', 'enc_big', 'dec_small', (0.001,), (0.001,)), ('pg', 'coordinates', 'fc', 'tanh', 'enc_big', 'dec_small', (0.001,), (0.01,)), ('pg', 'coordinates', 'fc', 'tanh', 'enc_big', 'dec_small', (0.01,), (0.001,)), ('pg', 'coordinates', 'fc', 'tanh', 'enc_big', 'dec_small', (0.01,), (0.01,)), ('pg', 'coordinates', 'fc', 'tanh', 'enc_big', 'dec_big', (0.001,), (0.001,)), ('pg', 'coordinates', 'fc', 'tanh', 'enc_big', 'dec_big', (0.001,), (0.01,)), ('pg', 'coordinates', 'fc', 'tanh', 'enc_big', 'dec_big', (0.01,), (0.001,)), ('pg', 'coordinates', 'fc', 'tanh', 'enc_big', 'dec_big', (0.01,), (0.01,)), ('ppo', 'grid', 'conv', 'relu', 'enc_small', 'dec_small', (0.001,), (0.001,)), ('ppo', 'grid', 'conv', 'relu', 'enc_small', 'dec_small', (0.001,), (0.01,)), ('ppo', 'grid', 'conv', 'relu', 'enc_small', 'dec_small', (0.01,), (0.001,)), ('ppo', 'grid', 'conv', 'relu', 'enc_small', 'dec_small', (0.01,), (0.01,)), ('ppo', 'grid', 'conv', 'relu', 'enc_small', 'dec_big', (0.001,), (0.001,)), ('ppo', 'grid', 'conv', 'relu', 'enc_small', 'dec_big', (0.001,), (0.01,)), ('ppo', 'grid', 'conv', 'relu', 'enc_small', 'dec_big', (0.01,), (0.001,)), ('ppo', 'grid', 'conv', 'relu', 'enc_small', 'dec_big', (0.01,), (0.01,)), ('ppo', 'grid', 'conv', 'relu', 'enc_medium', 'dec_small', (0.001,), (0.001,)), ('ppo', 'grid', 'conv', 'relu', 'enc_medium', 'dec_small', (0.001,), (0.01,)), ('ppo', 'grid', 'conv', 'relu', 'enc_medium', 'dec_small', (0.01,), (0.001,)), ('ppo', 'grid', 'conv', 'relu', 'enc_medium', 'dec_small', (0.01,), (0.01,)), ('ppo', 'grid', 'conv', 'relu', 'enc_medium', 'dec_big', (0.001,), (0.001,)), ('ppo', 'grid', 'conv', 'relu', 'enc_medium', 'dec_big', (0.001,), (0.01,)), ('ppo', 'grid', 'conv', 'relu', 'enc_medium', 'dec_big', (0.01,), (0.001,)), ('ppo', 'grid', 'conv', 'relu', 'enc_medium', 'dec_big', (0.01,), (0.01,)), ('ppo', 'grid', 'conv', 'relu', 'enc_big', 'dec_small', (0.001,), (0.001,)), ('ppo', 'grid', 'conv', 'relu', 'enc_big', 'dec_small', (0.001,), (0.01,)), ('ppo', 'grid', 'conv', 'relu', 'enc_big', 'dec_small', (0.01,), (0.001,)), ('ppo', 'grid', 'conv', 'relu', 'enc_big', 'dec_small', (0.01,), (0.01,)), ('ppo', 'grid', 'conv', 'relu', 'enc_big', 'dec_big', (0.001,), (0.001,)), ('ppo', 'grid', 'conv', 'relu', 'enc_big', 'dec_big', (0.001,), (0.01,)), ('ppo', 'grid', 'conv', 'relu', 'enc_big', 'dec_big', (0.01,), (0.001,)), ('ppo', 'grid', 'conv', 'relu', 'enc_big', 'dec_big', (0.01,), (0.01,)), ('ppo', 'grid', 'conv', 'tanh', 'enc_small', 'dec_small', (0.001,), (0.001,)), ('ppo', 'grid', 'conv', 'tanh', 'enc_small', 'dec_small', (0.001,), (0.01,)), ('ppo', 'grid', 'conv', 'tanh', 'enc_small', 'dec_small', (0.01,), (0.001,)), ('ppo', 'grid', 'conv', 'tanh', 'enc_small', 'dec_small', (0.01,), (0.01,)), ('ppo', 'grid', 'conv', 'tanh', 'enc_small', 'dec_big', (0.001,), (0.001,)), ('ppo', 'grid', 'conv', 'tanh', 'enc_small', 'dec_big', (0.001,), (0.01,)), ('ppo', 'grid', 'conv', 'tanh', 'enc_small', 'dec_big', (0.01,), (0.001,)), ('ppo', 'grid', 'conv', 'tanh', 'enc_small', 'dec_big', (0.01,), (0.01,)), ('ppo', 'grid', 'conv', 'tanh', 'enc_medium', 'dec_small', (0.001,), (0.001,)), ('ppo', 'grid', 'conv', 'tanh', 'enc_medium', 'dec_small', (0.001,), (0.01,)), ('ppo', 'grid', 'conv', 'tanh', 'enc_medium', 'dec_small', (0.01,), (0.001,)), ('ppo', 'grid', 'conv', 'tanh', 'enc_medium', 'dec_small', (0.01,), (0.01,)), ('ppo', 'grid', 'conv', 'tanh', 'enc_medium', 'dec_big', (0.001,), (0.001,)), ('ppo', 'grid', 'conv', 'tanh', 'enc_medium', 'dec_big', (0.001,), (0.01,)), ('ppo', 'grid', 'conv', 'tanh', 'enc_medium', 'dec_big', (0.01,), (0.001,)), ('ppo', 'grid', 'conv', 'tanh', 'enc_medium', 'dec_big', (0.01,), (0.01,)), ('ppo', 'grid', 'conv', 'tanh', 'enc_big', 'dec_small', (0.001,), (0.001,)), ('ppo', 'grid', 'conv', 'tanh', 'enc_big', 'dec_small', (0.001,), (0.01,)), ('ppo', 'grid', 'conv', 'tanh', 'enc_big', 'dec_small', (0.01,), (0.001,)), ('ppo', 'grid', 'conv', 'tanh', 'enc_big', 'dec_small', (0.01,), (0.01,)), ('ppo', 'grid', 'conv', 'tanh', 'enc_big', 'dec_big', (0.001,), (0.001,)), ('ppo', 'grid', 'conv', 'tanh', 'enc_big', 'dec_big', (0.001,), (0.01,)), ('ppo', 'grid', 'conv', 'tanh', 'enc_big', 'dec_big', (0.01,), (0.001,)), ('ppo', 'grid', 'conv', 'tanh', 'enc_big', 'dec_big', (0.01,), (0.01,)), ('ppo', 'coordinates', 'fc', 'relu', 'enc_small', 'dec_small', (0.001,), (0.001,)), ('ppo', 'coordinates', 'fc', 'relu', 'enc_small', 'dec_small', (0.001,), (0.01,)), ('ppo', 'coordinates', 'fc', 'relu', 'enc_small', 'dec_small', (0.01,), (0.001,)), ('ppo', 'coordinates', 'fc', 'relu', 'enc_small', 'dec_small', (0.01,), (0.01,)), ('ppo', 'coordinates', 'fc', 'relu', 'enc_small', 'dec_big', (0.001,), (0.001,)), ('ppo', 'coordinates', 'fc', 'relu', 'enc_small', 'dec_big', (0.001,), (0.01,)), ('ppo', 'coordinates', 'fc', 'relu', 'enc_small', 'dec_big', (0.01,), (0.001,)), ('ppo', 'coordinates', 'fc', 'relu', 'enc_small', 'dec_big', (0.01,), (0.01,)), ('ppo', 'coordinates', 'fc', 'relu', 'enc_medium', 'dec_small', (0.001,), (0.001,)), ('ppo', 'coordinates', 'fc', 'relu', 'enc_medium', 'dec_small', (0.001,), (0.01,)), ('ppo', 'coordinates', 'fc', 'relu', 'enc_medium', 'dec_small', (0.01,), (0.001,)), ('ppo', 'coordinates', 'fc', 'relu', 'enc_medium', 'dec_small', (0.01,), (0.01,)), ('ppo', 'coordinates', 'fc', 'relu', 'enc_medium', 'dec_big', (0.001,), (0.001,)), ('ppo', 'coordinates', 'fc', 'relu', 'enc_medium', 'dec_big', (0.001,), (0.01,)), ('ppo', 'coordinates', 'fc', 'relu', 'enc_medium', 'dec_big', (0.01,), (0.001,)), ('ppo', 'coordinates', 'fc', 'relu', 'enc_medium', 'dec_big', (0.01,), (0.01,)), ('ppo', 'coordinates', 'fc', 'relu', 'enc_big', 'dec_small', (0.001,), (0.001,)), ('ppo', 'coordinates', 'fc', 'relu', 'enc_big', 'dec_small', (0.001,), (0.01,)), ('ppo', 'coordinates', 'fc', 'relu', 'enc_big', 'dec_small', (0.01,), (0.001,)), ('ppo', 'coordinates', 'fc', 'relu', 'enc_big', 'dec_small', (0.01,), (0.01,)), ('ppo', 'coordinates', 'fc', 'relu', 'enc_big', 'dec_big', (0.001,), (0.001,)), ('ppo', 'coordinates', 'fc', 'relu', 'enc_big', 'dec_big', (0.001,), (0.01,)), ('ppo', 'coordinates', 'fc', 'relu', 'enc_big', 'dec_big', (0.01,), (0.001,)), ('ppo', 'coordinates', 'fc', 'relu', 'enc_big', 'dec_big', (0.01,), (0.01,)), ('ppo', 'coordinates', 'fc', 'tanh', 'enc_small', 'dec_small', (0.001,), (0.001,)), ('ppo', 'coordinates', 'fc', 'tanh', 'enc_small', 'dec_small', (0.001,), (0.01,)), ('ppo', 'coordinates', 'fc', 'tanh', 'enc_small', 'dec_small', (0.01,), (0.001,)), ('ppo', 'coordinates', 'fc', 'tanh', 'enc_small', 'dec_small', (0.01,), (0.01,)), ('ppo', 'coordinates', 'fc', 'tanh', 'enc_small', 'dec_big', (0.001,), (0.001,)), ('ppo', 'coordinates', 'fc', 'tanh', 'enc_small', 'dec_big', (0.001,), (0.01,)), ('ppo', 'coordinates', 'fc', 'tanh', 'enc_small', 'dec_big', (0.01,), (0.001,)), ('ppo', 'coordinates', 'fc', 'tanh', 'enc_small', 'dec_big', (0.01,), (0.01,)), ('ppo', 'coordinates', 'fc', 'tanh', 'enc_medium', 'dec_small', (0.001,), (0.001,)), ('ppo', 'coordinates', 'fc', 'tanh', 'enc_medium', 'dec_small', (0.001,), (0.01,)), ('ppo', 'coordinates', 'fc', 'tanh', 'enc_medium', 'dec_small', (0.01,), (0.001,)), ('ppo', 'coordinates', 'fc', 'tanh', 'enc_medium', 'dec_small', (0.01,), (0.01,)), ('ppo', 'coordinates', 'fc', 'tanh', 'enc_medium', 'dec_big', (0.001,), (0.001,)), ('ppo', 'coordinates', 'fc', 'tanh', 'enc_medium', 'dec_big', (0.001,), (0.01,)), ('ppo', 'coordinates', 'fc', 'tanh', 'enc_medium', 'dec_big', (0.01,), (0.001,)), ('ppo', 'coordinates', 'fc', 'tanh', 'enc_medium', 'dec_big', (0.01,), (0.01,)), ('ppo', 'coordinates', 'fc', 'tanh', 'enc_big', 'dec_small', (0.001,), (0.001,)), ('ppo', 'coordinates', 'fc', 'tanh', 'enc_big', 'dec_small', (0.001,), (0.01,)), ('ppo', 'coordinates', 'fc', 'tanh', 'enc_big', 'dec_small', (0.01,), (0.001,)), ('ppo', 'coordinates', 'fc', 'tanh', 'enc_big', 'dec_small', (0.01,), (0.01,)), ('ppo', 'coordinates', 'fc', 'tanh', 'enc_big', 'dec_big', (0.001,), (0.001,)), ('ppo', 'coordinates', 'fc', 'tanh', 'enc_big', 'dec_big', (0.001,), (0.01,)), ('ppo', 'coordinates', 'fc', 'tanh', 'enc_big', 'dec_big', (0.01,), (0.001,)), ('ppo', 'coordinates', 'fc', 'tanh', 'enc_big', 'dec_big', (0.01,), (0.01,))]\n"
     ]
    }
   ],
   "source": [
    "# combinations = list(combinations)\n",
    "combinations = [combination for combination in combinations if is_compatible(combination, incompatible)]\n",
    "print(combinations)"
   ]
  },
  {
   "cell_type": "code",
   "execution_count": 104,
   "metadata": {},
   "outputs": [],
   "source": [
    "import json"
   ]
  },
  {
   "cell_type": "code",
   "execution_count": 105,
   "metadata": {},
   "outputs": [
    {
     "data": {
      "text/plain": [
       "('pg', 'grid', 'conv', 'relu', 'enc_small', 'dec_small', (0.001,), (0.001,))"
      ]
     },
     "execution_count": 105,
     "metadata": {},
     "output_type": "execute_result"
    }
   ],
   "source": [
    "combinations[0]"
   ]
  },
  {
   "cell_type": "code",
   "execution_count": 106,
   "metadata": {},
   "outputs": [
    {
     "ename": "TypeError",
     "evalue": "'module' object is not callable",
     "output_type": "error",
     "traceback": [
      "\u001b[1;31m---------------------------------------------------------------------------\u001b[0m",
      "\u001b[1;31mTypeError\u001b[0m                                 Traceback (most recent call last)",
      "\u001b[1;32m<ipython-input-106-7bb272209e7b>\u001b[0m in \u001b[0;36m<module>\u001b[1;34m\u001b[0m\n\u001b[0;32m      1\u001b[0m \u001b[1;32mwith\u001b[0m \u001b[0mopen\u001b[0m\u001b[1;33m(\u001b[0m\u001b[1;34m'example.json'\u001b[0m\u001b[1;33m,\u001b[0m \u001b[1;34m'w'\u001b[0m\u001b[1;33m)\u001b[0m \u001b[1;32mas\u001b[0m \u001b[0mf\u001b[0m\u001b[1;33m:\u001b[0m\u001b[1;33m\u001b[0m\u001b[1;33m\u001b[0m\u001b[0m\n\u001b[1;32m----> 2\u001b[1;33m     \u001b[0mjson\u001b[0m\u001b[1;33m.\u001b[0m\u001b[0mdump\u001b[0m\u001b[1;33m(\u001b[0m\u001b[0mjson\u001b[0m\u001b[1;33m(\u001b[0m\u001b[1;33m)\u001b[0m\u001b[1;33m)\u001b[0m\u001b[1;33m\u001b[0m\u001b[1;33m\u001b[0m\u001b[0m\n\u001b[0m",
      "\u001b[1;31mTypeError\u001b[0m: 'module' object is not callable"
     ]
    }
   ],
   "source": [
    "with open('example.json', 'w') as f:\n",
    "    json.dump(json())"
   ]
  },
  {
   "cell_type": "code",
   "execution_count": 107,
   "metadata": {},
   "outputs": [
    {
     "data": {
      "text/plain": [
       "192"
      ]
     },
     "execution_count": 107,
     "metadata": {},
     "output_type": "execute_result"
    }
   ],
   "source": [
    "len(combinations)"
   ]
  },
  {
   "cell_type": "code",
   "execution_count": 121,
   "metadata": {},
   "outputs": [],
   "source": [
    "configurations = []\n",
    "for combination in combinations:\n",
    "    string = \"{\\n\"\n",
    "    for name, value in zip(my_dict, combination):\n",
    "        if name in [\"encoder_size\", \"decoder_size\"]:\n",
    "            string += translator[value]\n",
    "        else:    \n",
    "            if isinstance(value, str):\n",
    "                value = \"\\\"\" + value + \"\\\"\"\n",
    "            string += (\"\\\"\" + name + \"\\\": \" + str(value) + \",\\n\")\n",
    "    string = string[:-2] + \"\\n}\"\n",
    "    name = ','.join([str(i) for i in combination])\n",
    "    configurations.append((name, string))\n",
    "#     print(string)"
   ]
  },
  {
   "cell_type": "code",
   "execution_count": 122,
   "metadata": {},
   "outputs": [],
   "source": [
    "FOLDER = \"configurations/\"\n",
    "for key, config in enumerate(configurations): \n",
    "    with open(FOLDER + str(key) +\"-\" +config[0]+ \".json\", \"w\") as file:\n",
    "        file.write(config[1])"
   ]
  },
  {
   "cell_type": "code",
   "execution_count": null,
   "metadata": {},
   "outputs": [],
   "source": []
  }
 ],
 "metadata": {
  "kernelspec": {
   "display_name": "DLProject",
   "language": "python",
   "name": "dlproject"
  },
  "language_info": {
   "codemirror_mode": {
    "name": "ipython",
    "version": 3
   },
   "file_extension": ".py",
   "mimetype": "text/x-python",
   "name": "python",
   "nbconvert_exporter": "python",
   "pygments_lexer": "ipython3",
   "version": "3.7.5"
  }
 },
 "nbformat": 4,
 "nbformat_minor": 2
}
